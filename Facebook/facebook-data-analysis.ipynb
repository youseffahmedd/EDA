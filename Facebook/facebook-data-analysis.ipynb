{
 "cells": [
  {
   "cell_type": "markdown",
   "id": "9d9755cb",
   "metadata": {
    "execution": {
     "iopub.execute_input": "2024-04-16T04:43:38.452971Z",
     "iopub.status.busy": "2024-04-16T04:43:38.452367Z",
     "iopub.status.idle": "2024-04-16T04:43:38.484676Z",
     "shell.execute_reply": "2024-04-16T04:43:38.483399Z",
     "shell.execute_reply.started": "2024-04-16T04:43:38.452928Z"
    },
    "papermill": {
     "duration": 0.006052,
     "end_time": "2024-04-16T08:40:54.246629",
     "exception": false,
     "start_time": "2024-04-16T08:40:54.240577",
     "status": "completed"
    },
    "tags": []
   },
   "source": [
    "### Import needed libraries"
   ]
  },
  {
   "cell_type": "code",
   "execution_count": 1,
   "id": "39cb5ca0",
   "metadata": {
    "execution": {
     "iopub.execute_input": "2024-04-16T08:40:54.259638Z",
     "iopub.status.busy": "2024-04-16T08:40:54.258828Z",
     "iopub.status.idle": "2024-04-16T08:40:56.125100Z",
     "shell.execute_reply": "2024-04-16T08:40:56.123930Z"
    },
    "papermill": {
     "duration": 1.875392,
     "end_time": "2024-04-16T08:40:56.127534",
     "exception": false,
     "start_time": "2024-04-16T08:40:54.252142",
     "status": "completed"
    },
    "tags": []
   },
   "outputs": [],
   "source": [
    "import pandas as pd\n",
    "import numpy as np \n",
    "import matplotlib.pyplot as plt\n",
    "import seaborn as sns\n",
    "import warnings\n",
    "warnings.filterwarnings('ignore')"
   ]
  },
  {
   "cell_type": "markdown",
   "id": "a8335bef",
   "metadata": {
    "papermill": {
     "duration": 0.005276,
     "end_time": "2024-04-16T08:40:56.138509",
     "exception": false,
     "start_time": "2024-04-16T08:40:56.133233",
     "status": "completed"
    },
    "tags": []
   },
   "source": [
    "### Loading The Dataset"
   ]
  },
  {
   "cell_type": "code",
   "execution_count": 2,
   "id": "439a2cc0",
   "metadata": {
    "execution": {
     "iopub.execute_input": "2024-04-16T08:40:56.151060Z",
     "iopub.status.busy": "2024-04-16T08:40:56.150594Z",
     "iopub.status.idle": "2024-04-16T08:40:56.328900Z",
     "shell.execute_reply": "2024-04-16T08:40:56.327817Z"
    },
    "papermill": {
     "duration": 0.187048,
     "end_time": "2024-04-16T08:40:56.330960",
     "exception": false,
     "start_time": "2024-04-16T08:40:56.143912",
     "status": "completed"
    },
    "tags": []
   },
   "outputs": [],
   "source": [
    "df = pd.read_csv('/kaggle/input/facebook-data/pseudo_facebook.csv')"
   ]
  },
  {
   "cell_type": "markdown",
   "id": "1ef90283",
   "metadata": {
    "papermill": {
     "duration": 0.005238,
     "end_time": "2024-04-16T08:40:56.341973",
     "exception": false,
     "start_time": "2024-04-16T08:40:56.336735",
     "status": "completed"
    },
    "tags": []
   },
   "source": [
    "### Exploring the Data"
   ]
  },
  {
   "cell_type": "code",
   "execution_count": 3,
   "id": "86f451bc",
   "metadata": {
    "execution": {
     "iopub.execute_input": "2024-04-16T08:40:56.354080Z",
     "iopub.status.busy": "2024-04-16T08:40:56.353761Z",
     "iopub.status.idle": "2024-04-16T08:40:56.375367Z",
     "shell.execute_reply": "2024-04-16T08:40:56.374354Z"
    },
    "papermill": {
     "duration": 0.029972,
     "end_time": "2024-04-16T08:40:56.377315",
     "exception": false,
     "start_time": "2024-04-16T08:40:56.347343",
     "status": "completed"
    },
    "tags": []
   },
   "outputs": [
    {
     "data": {
      "text/html": [
       "<div>\n",
       "<style scoped>\n",
       "    .dataframe tbody tr th:only-of-type {\n",
       "        vertical-align: middle;\n",
       "    }\n",
       "\n",
       "    .dataframe tbody tr th {\n",
       "        vertical-align: top;\n",
       "    }\n",
       "\n",
       "    .dataframe thead th {\n",
       "        text-align: right;\n",
       "    }\n",
       "</style>\n",
       "<table border=\"1\" class=\"dataframe\">\n",
       "  <thead>\n",
       "    <tr style=\"text-align: right;\">\n",
       "      <th></th>\n",
       "      <th>userid</th>\n",
       "      <th>age</th>\n",
       "      <th>dob_day</th>\n",
       "      <th>dob_year</th>\n",
       "      <th>dob_month</th>\n",
       "      <th>gender</th>\n",
       "      <th>tenure</th>\n",
       "      <th>friend_count</th>\n",
       "      <th>friendships_initiated</th>\n",
       "      <th>likes</th>\n",
       "      <th>likes_received</th>\n",
       "      <th>mobile_likes</th>\n",
       "      <th>mobile_likes_received</th>\n",
       "      <th>www_likes</th>\n",
       "      <th>www_likes_received</th>\n",
       "    </tr>\n",
       "  </thead>\n",
       "  <tbody>\n",
       "    <tr>\n",
       "      <th>0</th>\n",
       "      <td>2094382</td>\n",
       "      <td>14</td>\n",
       "      <td>19</td>\n",
       "      <td>1999</td>\n",
       "      <td>11</td>\n",
       "      <td>male</td>\n",
       "      <td>266.0</td>\n",
       "      <td>0</td>\n",
       "      <td>0</td>\n",
       "      <td>0</td>\n",
       "      <td>0</td>\n",
       "      <td>0</td>\n",
       "      <td>0</td>\n",
       "      <td>0</td>\n",
       "      <td>0</td>\n",
       "    </tr>\n",
       "    <tr>\n",
       "      <th>1</th>\n",
       "      <td>1192601</td>\n",
       "      <td>14</td>\n",
       "      <td>2</td>\n",
       "      <td>1999</td>\n",
       "      <td>11</td>\n",
       "      <td>female</td>\n",
       "      <td>6.0</td>\n",
       "      <td>0</td>\n",
       "      <td>0</td>\n",
       "      <td>0</td>\n",
       "      <td>0</td>\n",
       "      <td>0</td>\n",
       "      <td>0</td>\n",
       "      <td>0</td>\n",
       "      <td>0</td>\n",
       "    </tr>\n",
       "    <tr>\n",
       "      <th>2</th>\n",
       "      <td>2083884</td>\n",
       "      <td>14</td>\n",
       "      <td>16</td>\n",
       "      <td>1999</td>\n",
       "      <td>11</td>\n",
       "      <td>male</td>\n",
       "      <td>13.0</td>\n",
       "      <td>0</td>\n",
       "      <td>0</td>\n",
       "      <td>0</td>\n",
       "      <td>0</td>\n",
       "      <td>0</td>\n",
       "      <td>0</td>\n",
       "      <td>0</td>\n",
       "      <td>0</td>\n",
       "    </tr>\n",
       "    <tr>\n",
       "      <th>3</th>\n",
       "      <td>1203168</td>\n",
       "      <td>14</td>\n",
       "      <td>25</td>\n",
       "      <td>1999</td>\n",
       "      <td>12</td>\n",
       "      <td>female</td>\n",
       "      <td>93.0</td>\n",
       "      <td>0</td>\n",
       "      <td>0</td>\n",
       "      <td>0</td>\n",
       "      <td>0</td>\n",
       "      <td>0</td>\n",
       "      <td>0</td>\n",
       "      <td>0</td>\n",
       "      <td>0</td>\n",
       "    </tr>\n",
       "    <tr>\n",
       "      <th>4</th>\n",
       "      <td>1733186</td>\n",
       "      <td>14</td>\n",
       "      <td>4</td>\n",
       "      <td>1999</td>\n",
       "      <td>12</td>\n",
       "      <td>male</td>\n",
       "      <td>82.0</td>\n",
       "      <td>0</td>\n",
       "      <td>0</td>\n",
       "      <td>0</td>\n",
       "      <td>0</td>\n",
       "      <td>0</td>\n",
       "      <td>0</td>\n",
       "      <td>0</td>\n",
       "      <td>0</td>\n",
       "    </tr>\n",
       "  </tbody>\n",
       "</table>\n",
       "</div>"
      ],
      "text/plain": [
       "    userid  age  dob_day  dob_year  dob_month  gender  tenure  friend_count  \\\n",
       "0  2094382   14       19      1999         11    male   266.0             0   \n",
       "1  1192601   14        2      1999         11  female     6.0             0   \n",
       "2  2083884   14       16      1999         11    male    13.0             0   \n",
       "3  1203168   14       25      1999         12  female    93.0             0   \n",
       "4  1733186   14        4      1999         12    male    82.0             0   \n",
       "\n",
       "   friendships_initiated  likes  likes_received  mobile_likes  \\\n",
       "0                      0      0               0             0   \n",
       "1                      0      0               0             0   \n",
       "2                      0      0               0             0   \n",
       "3                      0      0               0             0   \n",
       "4                      0      0               0             0   \n",
       "\n",
       "   mobile_likes_received  www_likes  www_likes_received  \n",
       "0                      0          0                   0  \n",
       "1                      0          0                   0  \n",
       "2                      0          0                   0  \n",
       "3                      0          0                   0  \n",
       "4                      0          0                   0  "
      ]
     },
     "execution_count": 3,
     "metadata": {},
     "output_type": "execute_result"
    }
   ],
   "source": [
    "df.head()"
   ]
  },
  {
   "cell_type": "code",
   "execution_count": 4,
   "id": "5809925a",
   "metadata": {
    "execution": {
     "iopub.execute_input": "2024-04-16T08:40:56.391497Z",
     "iopub.status.busy": "2024-04-16T08:40:56.391124Z",
     "iopub.status.idle": "2024-04-16T08:40:56.405102Z",
     "shell.execute_reply": "2024-04-16T08:40:56.404171Z"
    },
    "papermill": {
     "duration": 0.024064,
     "end_time": "2024-04-16T08:40:56.407273",
     "exception": false,
     "start_time": "2024-04-16T08:40:56.383209",
     "status": "completed"
    },
    "tags": []
   },
   "outputs": [
    {
     "data": {
      "text/html": [
       "<div>\n",
       "<style scoped>\n",
       "    .dataframe tbody tr th:only-of-type {\n",
       "        vertical-align: middle;\n",
       "    }\n",
       "\n",
       "    .dataframe tbody tr th {\n",
       "        vertical-align: top;\n",
       "    }\n",
       "\n",
       "    .dataframe thead th {\n",
       "        text-align: right;\n",
       "    }\n",
       "</style>\n",
       "<table border=\"1\" class=\"dataframe\">\n",
       "  <thead>\n",
       "    <tr style=\"text-align: right;\">\n",
       "      <th></th>\n",
       "      <th>userid</th>\n",
       "      <th>age</th>\n",
       "      <th>dob_day</th>\n",
       "      <th>dob_year</th>\n",
       "      <th>dob_month</th>\n",
       "      <th>gender</th>\n",
       "      <th>tenure</th>\n",
       "      <th>friend_count</th>\n",
       "      <th>friendships_initiated</th>\n",
       "      <th>likes</th>\n",
       "      <th>likes_received</th>\n",
       "      <th>mobile_likes</th>\n",
       "      <th>mobile_likes_received</th>\n",
       "      <th>www_likes</th>\n",
       "      <th>www_likes_received</th>\n",
       "    </tr>\n",
       "  </thead>\n",
       "  <tbody>\n",
       "    <tr>\n",
       "      <th>98998</th>\n",
       "      <td>1268299</td>\n",
       "      <td>68</td>\n",
       "      <td>4</td>\n",
       "      <td>1945</td>\n",
       "      <td>4</td>\n",
       "      <td>female</td>\n",
       "      <td>541.0</td>\n",
       "      <td>2118</td>\n",
       "      <td>341</td>\n",
       "      <td>3996</td>\n",
       "      <td>18089</td>\n",
       "      <td>3505</td>\n",
       "      <td>11887</td>\n",
       "      <td>491</td>\n",
       "      <td>6202</td>\n",
       "    </tr>\n",
       "    <tr>\n",
       "      <th>98999</th>\n",
       "      <td>1256153</td>\n",
       "      <td>18</td>\n",
       "      <td>12</td>\n",
       "      <td>1995</td>\n",
       "      <td>3</td>\n",
       "      <td>female</td>\n",
       "      <td>21.0</td>\n",
       "      <td>1968</td>\n",
       "      <td>1720</td>\n",
       "      <td>4401</td>\n",
       "      <td>13412</td>\n",
       "      <td>4399</td>\n",
       "      <td>10592</td>\n",
       "      <td>2</td>\n",
       "      <td>2820</td>\n",
       "    </tr>\n",
       "    <tr>\n",
       "      <th>99000</th>\n",
       "      <td>1195943</td>\n",
       "      <td>15</td>\n",
       "      <td>10</td>\n",
       "      <td>1998</td>\n",
       "      <td>5</td>\n",
       "      <td>female</td>\n",
       "      <td>111.0</td>\n",
       "      <td>2002</td>\n",
       "      <td>1524</td>\n",
       "      <td>11959</td>\n",
       "      <td>12554</td>\n",
       "      <td>11959</td>\n",
       "      <td>11462</td>\n",
       "      <td>0</td>\n",
       "      <td>1092</td>\n",
       "    </tr>\n",
       "    <tr>\n",
       "      <th>99001</th>\n",
       "      <td>1468023</td>\n",
       "      <td>23</td>\n",
       "      <td>11</td>\n",
       "      <td>1990</td>\n",
       "      <td>4</td>\n",
       "      <td>female</td>\n",
       "      <td>416.0</td>\n",
       "      <td>2560</td>\n",
       "      <td>185</td>\n",
       "      <td>4506</td>\n",
       "      <td>6516</td>\n",
       "      <td>4506</td>\n",
       "      <td>5760</td>\n",
       "      <td>0</td>\n",
       "      <td>756</td>\n",
       "    </tr>\n",
       "    <tr>\n",
       "      <th>99002</th>\n",
       "      <td>1397896</td>\n",
       "      <td>39</td>\n",
       "      <td>15</td>\n",
       "      <td>1974</td>\n",
       "      <td>5</td>\n",
       "      <td>female</td>\n",
       "      <td>397.0</td>\n",
       "      <td>2049</td>\n",
       "      <td>768</td>\n",
       "      <td>9410</td>\n",
       "      <td>12443</td>\n",
       "      <td>9410</td>\n",
       "      <td>9530</td>\n",
       "      <td>0</td>\n",
       "      <td>2913</td>\n",
       "    </tr>\n",
       "  </tbody>\n",
       "</table>\n",
       "</div>"
      ],
      "text/plain": [
       "        userid  age  dob_day  dob_year  dob_month  gender  tenure  \\\n",
       "98998  1268299   68        4      1945          4  female   541.0   \n",
       "98999  1256153   18       12      1995          3  female    21.0   \n",
       "99000  1195943   15       10      1998          5  female   111.0   \n",
       "99001  1468023   23       11      1990          4  female   416.0   \n",
       "99002  1397896   39       15      1974          5  female   397.0   \n",
       "\n",
       "       friend_count  friendships_initiated  likes  likes_received  \\\n",
       "98998          2118                    341   3996           18089   \n",
       "98999          1968                   1720   4401           13412   \n",
       "99000          2002                   1524  11959           12554   \n",
       "99001          2560                    185   4506            6516   \n",
       "99002          2049                    768   9410           12443   \n",
       "\n",
       "       mobile_likes  mobile_likes_received  www_likes  www_likes_received  \n",
       "98998          3505                  11887        491                6202  \n",
       "98999          4399                  10592          2                2820  \n",
       "99000         11959                  11462          0                1092  \n",
       "99001          4506                   5760          0                 756  \n",
       "99002          9410                   9530          0                2913  "
      ]
     },
     "execution_count": 4,
     "metadata": {},
     "output_type": "execute_result"
    }
   ],
   "source": [
    "df.tail()"
   ]
  },
  {
   "cell_type": "code",
   "execution_count": 5,
   "id": "c66492a9",
   "metadata": {
    "execution": {
     "iopub.execute_input": "2024-04-16T08:40:56.421572Z",
     "iopub.status.busy": "2024-04-16T08:40:56.421098Z",
     "iopub.status.idle": "2024-04-16T08:40:56.463237Z",
     "shell.execute_reply": "2024-04-16T08:40:56.462251Z"
    },
    "papermill": {
     "duration": 0.051461,
     "end_time": "2024-04-16T08:40:56.465163",
     "exception": false,
     "start_time": "2024-04-16T08:40:56.413702",
     "status": "completed"
    },
    "tags": []
   },
   "outputs": [
    {
     "data": {
      "text/plain": [
       "0"
      ]
     },
     "execution_count": 5,
     "metadata": {},
     "output_type": "execute_result"
    }
   ],
   "source": [
    "df.duplicated().sum()"
   ]
  },
  {
   "cell_type": "code",
   "execution_count": 6,
   "id": "16f6fa7e",
   "metadata": {
    "execution": {
     "iopub.execute_input": "2024-04-16T08:40:56.478503Z",
     "iopub.status.busy": "2024-04-16T08:40:56.478208Z",
     "iopub.status.idle": "2024-04-16T08:40:56.490912Z",
     "shell.execute_reply": "2024-04-16T08:40:56.489773Z"
    },
    "papermill": {
     "duration": 0.021599,
     "end_time": "2024-04-16T08:40:56.492988",
     "exception": false,
     "start_time": "2024-04-16T08:40:56.471389",
     "status": "completed"
    },
    "tags": []
   },
   "outputs": [
    {
     "data": {
      "text/plain": [
       "userid                     0\n",
       "age                        0\n",
       "dob_day                    0\n",
       "dob_year                   0\n",
       "dob_month                  0\n",
       "gender                   175\n",
       "tenure                     2\n",
       "friend_count               0\n",
       "friendships_initiated      0\n",
       "likes                      0\n",
       "likes_received             0\n",
       "mobile_likes               0\n",
       "mobile_likes_received      0\n",
       "www_likes                  0\n",
       "www_likes_received         0\n",
       "dtype: int64"
      ]
     },
     "execution_count": 6,
     "metadata": {},
     "output_type": "execute_result"
    }
   ],
   "source": [
    "df.isnull().sum()"
   ]
  },
  {
   "cell_type": "code",
   "execution_count": 7,
   "id": "8d18c921",
   "metadata": {
    "execution": {
     "iopub.execute_input": "2024-04-16T08:40:56.508610Z",
     "iopub.status.busy": "2024-04-16T08:40:56.508237Z",
     "iopub.status.idle": "2024-04-16T08:40:56.526257Z",
     "shell.execute_reply": "2024-04-16T08:40:56.525255Z"
    },
    "papermill": {
     "duration": 0.028561,
     "end_time": "2024-04-16T08:40:56.528443",
     "exception": false,
     "start_time": "2024-04-16T08:40:56.499882",
     "status": "completed"
    },
    "tags": []
   },
   "outputs": [],
   "source": [
    "df.dropna(inplace=True)"
   ]
  },
  {
   "cell_type": "code",
   "execution_count": 8,
   "id": "bfaf1f31",
   "metadata": {
    "execution": {
     "iopub.execute_input": "2024-04-16T08:40:56.542328Z",
     "iopub.status.busy": "2024-04-16T08:40:56.542040Z",
     "iopub.status.idle": "2024-04-16T08:40:56.563927Z",
     "shell.execute_reply": "2024-04-16T08:40:56.562746Z"
    },
    "papermill": {
     "duration": 0.031023,
     "end_time": "2024-04-16T08:40:56.565870",
     "exception": false,
     "start_time": "2024-04-16T08:40:56.534847",
     "status": "completed"
    },
    "tags": []
   },
   "outputs": [
    {
     "name": "stdout",
     "output_type": "stream",
     "text": [
      "<class 'pandas.core.frame.DataFrame'>\n",
      "Index: 98826 entries, 0 to 99002\n",
      "Data columns (total 15 columns):\n",
      " #   Column                 Non-Null Count  Dtype  \n",
      "---  ------                 --------------  -----  \n",
      " 0   userid                 98826 non-null  int64  \n",
      " 1   age                    98826 non-null  int64  \n",
      " 2   dob_day                98826 non-null  int64  \n",
      " 3   dob_year               98826 non-null  int64  \n",
      " 4   dob_month              98826 non-null  int64  \n",
      " 5   gender                 98826 non-null  object \n",
      " 6   tenure                 98826 non-null  float64\n",
      " 7   friend_count           98826 non-null  int64  \n",
      " 8   friendships_initiated  98826 non-null  int64  \n",
      " 9   likes                  98826 non-null  int64  \n",
      " 10  likes_received         98826 non-null  int64  \n",
      " 11  mobile_likes           98826 non-null  int64  \n",
      " 12  mobile_likes_received  98826 non-null  int64  \n",
      " 13  www_likes              98826 non-null  int64  \n",
      " 14  www_likes_received     98826 non-null  int64  \n",
      "dtypes: float64(1), int64(13), object(1)\n",
      "memory usage: 12.1+ MB\n"
     ]
    }
   ],
   "source": [
    "df.info()"
   ]
  },
  {
   "cell_type": "markdown",
   "id": "6678a6aa",
   "metadata": {
    "papermill": {
     "duration": 0.00605,
     "end_time": "2024-04-16T08:40:56.578538",
     "exception": false,
     "start_time": "2024-04-16T08:40:56.572488",
     "status": "completed"
    },
    "tags": []
   },
   "source": [
    "### Analysis & Visualization"
   ]
  },
  {
   "cell_type": "code",
   "execution_count": 9,
   "id": "c9d1dfd0",
   "metadata": {
    "execution": {
     "iopub.execute_input": "2024-04-16T08:40:56.592819Z",
     "iopub.status.busy": "2024-04-16T08:40:56.592481Z",
     "iopub.status.idle": "2024-04-16T08:40:56.603747Z",
     "shell.execute_reply": "2024-04-16T08:40:56.602796Z"
    },
    "papermill": {
     "duration": 0.020588,
     "end_time": "2024-04-16T08:40:56.605444",
     "exception": false,
     "start_time": "2024-04-16T08:40:56.584856",
     "status": "completed"
    },
    "tags": []
   },
   "outputs": [
    {
     "data": {
      "text/plain": [
       "gender\n",
       "male      58574\n",
       "female    40252\n",
       "Name: count, dtype: int64"
      ]
     },
     "execution_count": 9,
     "metadata": {},
     "output_type": "execute_result"
    }
   ],
   "source": [
    "genders = df['gender'].value_counts()\n",
    "genders"
   ]
  },
  {
   "cell_type": "code",
   "execution_count": 10,
   "id": "61939c62",
   "metadata": {
    "execution": {
     "iopub.execute_input": "2024-04-16T08:40:56.620366Z",
     "iopub.status.busy": "2024-04-16T08:40:56.620024Z",
     "iopub.status.idle": "2024-04-16T08:40:56.767279Z",
     "shell.execute_reply": "2024-04-16T08:40:56.766437Z"
    },
    "papermill": {
     "duration": 0.157949,
     "end_time": "2024-04-16T08:40:56.770240",
     "exception": false,
     "start_time": "2024-04-16T08:40:56.612291",
     "status": "completed"
    },
    "tags": []
   },
   "outputs": [
    {
     "data": {
      "image/png": "[encoded data removed]",
      "text/plain": [
       "<Figure size 1000x600 with 1 Axes>"
      ]
     },
     "metadata": {},
     "output_type": "display_data"
    }
   ],
   "source": [
    "plt.figure(figsize=(10,6))\n",
    "plt.pie(genders, labels=['Male', 'Female'], autopct='%.2f%%', colors=['lightblue','pink']) \n",
    "plt.title('Males & Females')\n",
    "plt.legend()\n",
    "plt.show()"
   ]
  },
  {
   "cell_type": "code",
   "execution_count": 11,
   "id": "b9e0f8f3",
   "metadata": {
    "execution": {
     "iopub.execute_input": "2024-04-16T08:40:56.789464Z",
     "iopub.status.busy": "2024-04-16T08:40:56.788912Z",
     "iopub.status.idle": "2024-04-16T08:40:56.801412Z",
     "shell.execute_reply": "2024-04-16T08:40:56.800734Z"
    },
    "papermill": {
     "duration": 0.024295,
     "end_time": "2024-04-16T08:40:56.803480",
     "exception": false,
     "start_time": "2024-04-16T08:40:56.779185",
     "status": "completed"
    },
    "tags": []
   },
   "outputs": [
    {
     "data": {
      "text/plain": [
       "age\n",
       "18     5196\n",
       "23     4402\n",
       "19     4390\n",
       "20     3768\n",
       "21     3670\n",
       "       ... \n",
       "87       41\n",
       "112      18\n",
       "111      17\n",
       "110      14\n",
       "109       9\n",
       "Name: count, Length: 101, dtype: int64"
      ]
     },
     "execution_count": 11,
     "metadata": {},
     "output_type": "execute_result"
    }
   ],
   "source": [
    "ages = df['age'].value_counts()\n",
    "ages"
   ]
  },
  {
   "cell_type": "code",
   "execution_count": 12,
   "id": "56a9b8aa",
   "metadata": {
    "execution": {
     "iopub.execute_input": "2024-04-16T08:40:56.824398Z",
     "iopub.status.busy": "2024-04-16T08:40:56.823980Z",
     "iopub.status.idle": "2024-04-16T08:40:57.474390Z",
     "shell.execute_reply": "2024-04-16T08:40:57.473720Z"
    },
    "papermill": {
     "duration": 0.662825,
     "end_time": "2024-04-16T08:40:57.476267",
     "exception": false,
     "start_time": "2024-04-16T08:40:56.813442",
     "status": "completed"
    },
    "tags": []
   },
   "outputs": [
    {
     "data": {
      "image/png": "[encoded data removed]",
      "text/plain": [
       "<Figure size 640x480 with 1 Axes>"
      ]
     },
     "metadata": {},
     "output_type": "display_data"
    }
   ],
   "source": [
    "sns.histplot(data=df, x='age', bins=30, kde=True)\n",
    "plt.title('Age Distribution of Facebook Users')\n",
    "plt.xlabel('Age')\n",
    "plt.ylabel('Frequency')\n",
    "plt.show()"
   ]
  },
  {
   "cell_type": "code",
   "execution_count": 13,
   "id": "07f85250",
   "metadata": {
    "execution": {
     "iopub.execute_input": "2024-04-16T08:40:57.496006Z",
     "iopub.status.busy": "2024-04-16T08:40:57.495516Z",
     "iopub.status.idle": "2024-04-16T08:40:57.512153Z",
     "shell.execute_reply": "2024-04-16T08:40:57.511351Z"
    },
    "papermill": {
     "duration": 0.028757,
     "end_time": "2024-04-16T08:40:57.514352",
     "exception": false,
     "start_time": "2024-04-16T08:40:57.485595",
     "status": "completed"
    },
    "tags": []
   },
   "outputs": [
    {
     "data": {
      "text/html": [
       "<div>\n",
       "<style scoped>\n",
       "    .dataframe tbody tr th:only-of-type {\n",
       "        vertical-align: middle;\n",
       "    }\n",
       "\n",
       "    .dataframe tbody tr th {\n",
       "        vertical-align: top;\n",
       "    }\n",
       "\n",
       "    .dataframe thead th {\n",
       "        text-align: right;\n",
       "    }\n",
       "</style>\n",
       "<table border=\"1\" class=\"dataframe\">\n",
       "  <thead>\n",
       "    <tr style=\"text-align: right;\">\n",
       "      <th></th>\n",
       "      <th>gender</th>\n",
       "      <th>friend_count</th>\n",
       "    </tr>\n",
       "  </thead>\n",
       "  <tbody>\n",
       "    <tr>\n",
       "      <th>0</th>\n",
       "      <td>female</td>\n",
       "      <td>9740073</td>\n",
       "    </tr>\n",
       "    <tr>\n",
       "      <th>1</th>\n",
       "      <td>male</td>\n",
       "      <td>9666787</td>\n",
       "    </tr>\n",
       "  </tbody>\n",
       "</table>\n",
       "</div>"
      ],
      "text/plain": [
       "   gender  friend_count\n",
       "0  female       9740073\n",
       "1    male       9666787"
      ]
     },
     "execution_count": 13,
     "metadata": {},
     "output_type": "execute_result"
    }
   ],
   "source": [
    "no_of_friends = df.groupby('gender')['friend_count'].sum().reset_index()\n",
    "no_of_friends"
   ]
  },
  {
   "cell_type": "markdown",
   "id": "1958b677",
   "metadata": {
    "papermill": {
     "duration": 0.007957,
     "end_time": "2024-04-16T08:40:57.531728",
     "exception": false,
     "start_time": "2024-04-16T08:40:57.523771",
     "status": "completed"
    },
    "tags": []
   },
   "source": [
    " We can see that number of friend of males and females are almost the same"
   ]
  },
  {
   "cell_type": "code",
   "execution_count": 14,
   "id": "2df30a92",
   "metadata": {
    "execution": {
     "iopub.execute_input": "2024-04-16T08:40:57.548048Z",
     "iopub.status.busy": "2024-04-16T08:40:57.547207Z",
     "iopub.status.idle": "2024-04-16T08:40:57.562055Z",
     "shell.execute_reply": "2024-04-16T08:40:57.561371Z"
    },
    "papermill": {
     "duration": 0.024792,
     "end_time": "2024-04-16T08:40:57.563721",
     "exception": false,
     "start_time": "2024-04-16T08:40:57.538929",
     "status": "completed"
    },
    "tags": []
   },
   "outputs": [
    {
     "data": {
      "text/plain": [
       "gender\n",
       "female    10121203\n",
       "male       3977851\n",
       "Name: likes_received, dtype: int64"
      ]
     },
     "execution_count": 14,
     "metadata": {},
     "output_type": "execute_result"
    }
   ],
   "source": [
    "no_of_likes_received = df.groupby('gender')['likes_received'].sum()\n",
    "no_of_likes_received"
   ]
  },
  {
   "cell_type": "code",
   "execution_count": 15,
   "id": "4e975a85",
   "metadata": {
    "execution": {
     "iopub.execute_input": "2024-04-16T08:40:57.580513Z",
     "iopub.status.busy": "2024-04-16T08:40:57.579450Z",
     "iopub.status.idle": "2024-04-16T08:40:57.738253Z",
     "shell.execute_reply": "2024-04-16T08:40:57.737255Z"
    },
    "papermill": {
     "duration": 0.169148,
     "end_time": "2024-04-16T08:40:57.740388",
     "exception": false,
     "start_time": "2024-04-16T08:40:57.571240",
     "status": "completed"
    },
    "tags": []
   },
   "outputs": [
    {
     "data": {
      "image/png": "[encoded data removed]",
      "text/plain": [
       "<Figure size 600x500 with 1 Axes>"
      ]
     },
     "metadata": {},
     "output_type": "display_data"
    }
   ],
   "source": [
    "plt.figure(figsize=(6,5))\n",
    "sns.barplot(x = no_of_likes_received.index , y = no_of_likes_received.values)\n",
    "plt.title('No. of likes received by Gender')\n",
    "plt.xlabel('Gender')\n",
    "plt.ylabel('No. of likes received')\n",
    "plt.show()"
   ]
  },
  {
   "cell_type": "code",
   "execution_count": 16,
   "id": "f6f533bb",
   "metadata": {
    "execution": {
     "iopub.execute_input": "2024-04-16T08:40:57.757525Z",
     "iopub.status.busy": "2024-04-16T08:40:57.757182Z",
     "iopub.status.idle": "2024-04-16T08:40:57.772273Z",
     "shell.execute_reply": "2024-04-16T08:40:57.771116Z"
    },
    "papermill": {
     "duration": 0.026022,
     "end_time": "2024-04-16T08:40:57.774265",
     "exception": false,
     "start_time": "2024-04-16T08:40:57.748243",
     "status": "completed"
    },
    "tags": []
   },
   "outputs": [
    {
     "data": {
      "text/plain": [
       "gender\n",
       "female    10467978\n",
       "male       4959923\n",
       "Name: likes, dtype: int64"
      ]
     },
     "execution_count": 16,
     "metadata": {},
     "output_type": "execute_result"
    }
   ],
   "source": [
    "no_of_likes = df.groupby('gender')['likes'].sum()\n",
    "no_of_likes"
   ]
  },
  {
   "cell_type": "code",
   "execution_count": 17,
   "id": "df393b01",
   "metadata": {
    "execution": {
     "iopub.execute_input": "2024-04-16T08:40:57.791228Z",
     "iopub.status.busy": "2024-04-16T08:40:57.790879Z",
     "iopub.status.idle": "2024-04-16T08:40:57.961573Z",
     "shell.execute_reply": "2024-04-16T08:40:57.960240Z"
    },
    "papermill": {
     "duration": 0.1818,
     "end_time": "2024-04-16T08:40:57.963756",
     "exception": false,
     "start_time": "2024-04-16T08:40:57.781956",
     "status": "completed"
    },
    "tags": []
   },
   "outputs": [
    {
     "data": {
      "image/png": "[encoded data removed]",
      "text/plain": [
       "<Figure size 600x500 with 1 Axes>"
      ]
     },
     "metadata": {},
     "output_type": "display_data"
    }
   ],
   "source": [
    "plt.figure(figsize=(6,5))\n",
    "sns.barplot(x = no_of_likes.index , y = no_of_likes.values)\n",
    "plt.title('No. of likes by Gender')\n",
    "plt.xlabel('Gender')\n",
    "plt.ylabel('No. of likes')\n",
    "plt.show()"
   ]
  },
  {
   "cell_type": "code",
   "execution_count": 18,
   "id": "ace867a8",
   "metadata": {
    "execution": {
     "iopub.execute_input": "2024-04-16T08:40:57.981747Z",
     "iopub.status.busy": "2024-04-16T08:40:57.981419Z",
     "iopub.status.idle": "2024-04-16T08:40:58.003709Z",
     "shell.execute_reply": "2024-04-16T08:40:58.002085Z"
    },
    "papermill": {
     "duration": 0.034279,
     "end_time": "2024-04-16T08:40:58.006415",
     "exception": false,
     "start_time": "2024-04-16T08:40:57.972136",
     "status": "completed"
    },
    "tags": []
   },
   "outputs": [
    {
     "data": {
      "text/html": [
       "<div>\n",
       "<style scoped>\n",
       "    .dataframe tbody tr th:only-of-type {\n",
       "        vertical-align: middle;\n",
       "    }\n",
       "\n",
       "    .dataframe tbody tr th {\n",
       "        vertical-align: top;\n",
       "    }\n",
       "\n",
       "    .dataframe thead th {\n",
       "        text-align: right;\n",
       "    }\n",
       "</style>\n",
       "<table border=\"1\" class=\"dataframe\">\n",
       "  <thead>\n",
       "    <tr style=\"text-align: right;\">\n",
       "      <th></th>\n",
       "      <th>userid</th>\n",
       "      <th>age</th>\n",
       "      <th>dob_day</th>\n",
       "      <th>dob_year</th>\n",
       "      <th>dob_month</th>\n",
       "      <th>gender</th>\n",
       "      <th>tenure</th>\n",
       "      <th>friend_count</th>\n",
       "      <th>friendships_initiated</th>\n",
       "      <th>likes</th>\n",
       "      <th>likes_received</th>\n",
       "      <th>mobile_likes</th>\n",
       "      <th>mobile_likes_received</th>\n",
       "      <th>www_likes</th>\n",
       "      <th>www_likes_received</th>\n",
       "      <th>age_group</th>\n",
       "    </tr>\n",
       "  </thead>\n",
       "  <tbody>\n",
       "    <tr>\n",
       "      <th>0</th>\n",
       "      <td>2094382</td>\n",
       "      <td>14</td>\n",
       "      <td>19</td>\n",
       "      <td>1999</td>\n",
       "      <td>11</td>\n",
       "      <td>male</td>\n",
       "      <td>266.0</td>\n",
       "      <td>0</td>\n",
       "      <td>0</td>\n",
       "      <td>0</td>\n",
       "      <td>0</td>\n",
       "      <td>0</td>\n",
       "      <td>0</td>\n",
       "      <td>0</td>\n",
       "      <td>0</td>\n",
       "      <td>10-20</td>\n",
       "    </tr>\n",
       "    <tr>\n",
       "      <th>1</th>\n",
       "      <td>1192601</td>\n",
       "      <td>14</td>\n",
       "      <td>2</td>\n",
       "      <td>1999</td>\n",
       "      <td>11</td>\n",
       "      <td>female</td>\n",
       "      <td>6.0</td>\n",
       "      <td>0</td>\n",
       "      <td>0</td>\n",
       "      <td>0</td>\n",
       "      <td>0</td>\n",
       "      <td>0</td>\n",
       "      <td>0</td>\n",
       "      <td>0</td>\n",
       "      <td>0</td>\n",
       "      <td>10-20</td>\n",
       "    </tr>\n",
       "    <tr>\n",
       "      <th>2</th>\n",
       "      <td>2083884</td>\n",
       "      <td>14</td>\n",
       "      <td>16</td>\n",
       "      <td>1999</td>\n",
       "      <td>11</td>\n",
       "      <td>male</td>\n",
       "      <td>13.0</td>\n",
       "      <td>0</td>\n",
       "      <td>0</td>\n",
       "      <td>0</td>\n",
       "      <td>0</td>\n",
       "      <td>0</td>\n",
       "      <td>0</td>\n",
       "      <td>0</td>\n",
       "      <td>0</td>\n",
       "      <td>10-20</td>\n",
       "    </tr>\n",
       "    <tr>\n",
       "      <th>3</th>\n",
       "      <td>1203168</td>\n",
       "      <td>14</td>\n",
       "      <td>25</td>\n",
       "      <td>1999</td>\n",
       "      <td>12</td>\n",
       "      <td>female</td>\n",
       "      <td>93.0</td>\n",
       "      <td>0</td>\n",
       "      <td>0</td>\n",
       "      <td>0</td>\n",
       "      <td>0</td>\n",
       "      <td>0</td>\n",
       "      <td>0</td>\n",
       "      <td>0</td>\n",
       "      <td>0</td>\n",
       "      <td>10-20</td>\n",
       "    </tr>\n",
       "    <tr>\n",
       "      <th>4</th>\n",
       "      <td>1733186</td>\n",
       "      <td>14</td>\n",
       "      <td>4</td>\n",
       "      <td>1999</td>\n",
       "      <td>12</td>\n",
       "      <td>male</td>\n",
       "      <td>82.0</td>\n",
       "      <td>0</td>\n",
       "      <td>0</td>\n",
       "      <td>0</td>\n",
       "      <td>0</td>\n",
       "      <td>0</td>\n",
       "      <td>0</td>\n",
       "      <td>0</td>\n",
       "      <td>0</td>\n",
       "      <td>10-20</td>\n",
       "    </tr>\n",
       "  </tbody>\n",
       "</table>\n",
       "</div>"
      ],
      "text/plain": [
       "    userid  age  dob_day  dob_year  dob_month  gender  tenure  friend_count  \\\n",
       "0  2094382   14       19      1999         11    male   266.0             0   \n",
       "1  1192601   14        2      1999         11  female     6.0             0   \n",
       "2  2083884   14       16      1999         11    male    13.0             0   \n",
       "3  1203168   14       25      1999         12  female    93.0             0   \n",
       "4  1733186   14        4      1999         12    male    82.0             0   \n",
       "\n",
       "   friendships_initiated  likes  likes_received  mobile_likes  \\\n",
       "0                      0      0               0             0   \n",
       "1                      0      0               0             0   \n",
       "2                      0      0               0             0   \n",
       "3                      0      0               0             0   \n",
       "4                      0      0               0             0   \n",
       "\n",
       "   mobile_likes_received  www_likes  www_likes_received age_group  \n",
       "0                      0          0                   0     10-20  \n",
       "1                      0          0                   0     10-20  \n",
       "2                      0          0                   0     10-20  \n",
       "3                      0          0                   0     10-20  \n",
       "4                      0          0                   0     10-20  "
      ]
     },
     "execution_count": 18,
     "metadata": {},
     "output_type": "execute_result"
    }
   ],
   "source": [
    "age_grp=['10-20','21-30','31-40','41-50','51-60','61-70','71-80','81-90','91-100','101-110','111-120']\n",
    "df['age_group'] = pd.cut(df.age,bins=np.arange(10,121,10),labels=age_grp,right=True)\n",
    "df.head()"
   ]
  },
  {
   "cell_type": "code",
   "execution_count": 19,
   "id": "415f85fc",
   "metadata": {
    "execution": {
     "iopub.execute_input": "2024-04-16T08:40:58.025351Z",
     "iopub.status.busy": "2024-04-16T08:40:58.025029Z",
     "iopub.status.idle": "2024-04-16T08:40:58.049905Z",
     "shell.execute_reply": "2024-04-16T08:40:58.048754Z"
    },
    "papermill": {
     "duration": 0.037308,
     "end_time": "2024-04-16T08:40:58.052358",
     "exception": false,
     "start_time": "2024-04-16T08:40:58.015050",
     "status": "completed"
    },
    "tags": []
   },
   "outputs": [
    {
     "data": {
      "text/html": [
       "<div>\n",
       "<style scoped>\n",
       "    .dataframe tbody tr th:only-of-type {\n",
       "        vertical-align: middle;\n",
       "    }\n",
       "\n",
       "    .dataframe tbody tr th {\n",
       "        vertical-align: top;\n",
       "    }\n",
       "\n",
       "    .dataframe thead th {\n",
       "        text-align: right;\n",
       "    }\n",
       "</style>\n",
       "<table border=\"1\" class=\"dataframe\">\n",
       "  <thead>\n",
       "    <tr style=\"text-align: right;\">\n",
       "      <th></th>\n",
       "      <th>age_group</th>\n",
       "      <th>gender</th>\n",
       "      <th>count</th>\n",
       "    </tr>\n",
       "  </thead>\n",
       "  <tbody>\n",
       "    <tr>\n",
       "      <th>0</th>\n",
       "      <td>21-30</td>\n",
       "      <td>male</td>\n",
       "      <td>18828</td>\n",
       "    </tr>\n",
       "    <tr>\n",
       "      <th>1</th>\n",
       "      <td>10-20</td>\n",
       "      <td>male</td>\n",
       "      <td>15044</td>\n",
       "    </tr>\n",
       "    <tr>\n",
       "      <th>2</th>\n",
       "      <td>21-30</td>\n",
       "      <td>female</td>\n",
       "      <td>9806</td>\n",
       "    </tr>\n",
       "    <tr>\n",
       "      <th>3</th>\n",
       "      <td>10-20</td>\n",
       "      <td>female</td>\n",
       "      <td>9703</td>\n",
       "    </tr>\n",
       "    <tr>\n",
       "      <th>4</th>\n",
       "      <td>31-40</td>\n",
       "      <td>male</td>\n",
       "      <td>7799</td>\n",
       "    </tr>\n",
       "    <tr>\n",
       "      <th>5</th>\n",
       "      <td>41-50</td>\n",
       "      <td>male</td>\n",
       "      <td>5031</td>\n",
       "    </tr>\n",
       "    <tr>\n",
       "      <th>6</th>\n",
       "      <td>51-60</td>\n",
       "      <td>female</td>\n",
       "      <td>4921</td>\n",
       "    </tr>\n",
       "    <tr>\n",
       "      <th>7</th>\n",
       "      <td>31-40</td>\n",
       "      <td>female</td>\n",
       "      <td>4688</td>\n",
       "    </tr>\n",
       "    <tr>\n",
       "      <th>8</th>\n",
       "      <td>51-60</td>\n",
       "      <td>male</td>\n",
       "      <td>4367</td>\n",
       "    </tr>\n",
       "    <tr>\n",
       "      <th>9</th>\n",
       "      <td>41-50</td>\n",
       "      <td>female</td>\n",
       "      <td>3931</td>\n",
       "    </tr>\n",
       "    <tr>\n",
       "      <th>10</th>\n",
       "      <td>61-70</td>\n",
       "      <td>female</td>\n",
       "      <td>3659</td>\n",
       "    </tr>\n",
       "    <tr>\n",
       "      <th>11</th>\n",
       "      <td>61-70</td>\n",
       "      <td>male</td>\n",
       "      <td>3171</td>\n",
       "    </tr>\n",
       "    <tr>\n",
       "      <th>12</th>\n",
       "      <td>101-110</td>\n",
       "      <td>male</td>\n",
       "      <td>2092</td>\n",
       "    </tr>\n",
       "    <tr>\n",
       "      <th>13</th>\n",
       "      <td>101-110</td>\n",
       "      <td>female</td>\n",
       "      <td>1317</td>\n",
       "    </tr>\n",
       "    <tr>\n",
       "      <th>14</th>\n",
       "      <td>71-80</td>\n",
       "      <td>female</td>\n",
       "      <td>1229</td>\n",
       "    </tr>\n",
       "    <tr>\n",
       "      <th>15</th>\n",
       "      <td>71-80</td>\n",
       "      <td>male</td>\n",
       "      <td>1005</td>\n",
       "    </tr>\n",
       "    <tr>\n",
       "      <th>16</th>\n",
       "      <td>91-100</td>\n",
       "      <td>male</td>\n",
       "      <td>704</td>\n",
       "    </tr>\n",
       "    <tr>\n",
       "      <th>17</th>\n",
       "      <td>91-100</td>\n",
       "      <td>female</td>\n",
       "      <td>497</td>\n",
       "    </tr>\n",
       "    <tr>\n",
       "      <th>18</th>\n",
       "      <td>81-90</td>\n",
       "      <td>male</td>\n",
       "      <td>419</td>\n",
       "    </tr>\n",
       "    <tr>\n",
       "      <th>19</th>\n",
       "      <td>81-90</td>\n",
       "      <td>female</td>\n",
       "      <td>384</td>\n",
       "    </tr>\n",
       "    <tr>\n",
       "      <th>20</th>\n",
       "      <td>111-120</td>\n",
       "      <td>female</td>\n",
       "      <td>117</td>\n",
       "    </tr>\n",
       "    <tr>\n",
       "      <th>21</th>\n",
       "      <td>111-120</td>\n",
       "      <td>male</td>\n",
       "      <td>114</td>\n",
       "    </tr>\n",
       "  </tbody>\n",
       "</table>\n",
       "</div>"
      ],
      "text/plain": [
       "   age_group  gender  count\n",
       "0      21-30    male  18828\n",
       "1      10-20    male  15044\n",
       "2      21-30  female   9806\n",
       "3      10-20  female   9703\n",
       "4      31-40    male   7799\n",
       "5      41-50    male   5031\n",
       "6      51-60  female   4921\n",
       "7      31-40  female   4688\n",
       "8      51-60    male   4367\n",
       "9      41-50  female   3931\n",
       "10     61-70  female   3659\n",
       "11     61-70    male   3171\n",
       "12   101-110    male   2092\n",
       "13   101-110  female   1317\n",
       "14     71-80  female   1229\n",
       "15     71-80    male   1005\n",
       "16    91-100    male    704\n",
       "17    91-100  female    497\n",
       "18     81-90    male    419\n",
       "19     81-90  female    384\n",
       "20   111-120  female    117\n",
       "21   111-120    male    114"
      ]
     },
     "execution_count": 19,
     "metadata": {},
     "output_type": "execute_result"
    }
   ],
   "source": [
    "age_gender = df[['age_group', 'gender']].value_counts().reset_index()\n",
    "age_gender"
   ]
  },
  {
   "cell_type": "code",
   "execution_count": 20,
   "id": "44db3906",
   "metadata": {
    "execution": {
     "iopub.execute_input": "2024-04-16T08:40:58.070980Z",
     "iopub.status.busy": "2024-04-16T08:40:58.070631Z",
     "iopub.status.idle": "2024-04-16T08:40:58.365150Z",
     "shell.execute_reply": "2024-04-16T08:40:58.364360Z"
    },
    "papermill": {
     "duration": 0.305747,
     "end_time": "2024-04-16T08:40:58.366876",
     "exception": false,
     "start_time": "2024-04-16T08:40:58.061129",
     "status": "completed"
    },
    "tags": []
   },
   "outputs": [
    {
     "data": {
      "image/png": "[encoded data removed]",
      "text/plain": [
       "<Figure size 1000x600 with 1 Axes>"
      ]
     },
     "metadata": {},
     "output_type": "display_data"
    }
   ],
   "source": [
    "plt.figure(figsize=(10,6))\n",
    "sns.barplot(data = age_gender, x= 'age_group' , y='count', hue='gender')\n",
    "plt.title('No. of males and females in each group')\n",
    "plt.xlabel('Age Groups')\n",
    "plt.ylabel('Frequency')\n",
    "plt.show()"
   ]
  },
  {
   "cell_type": "code",
   "execution_count": 21,
   "id": "4d1994a8",
   "metadata": {
    "execution": {
     "iopub.execute_input": "2024-04-16T08:40:58.385783Z",
     "iopub.status.busy": "2024-04-16T08:40:58.385417Z",
     "iopub.status.idle": "2024-04-16T08:40:59.722865Z",
     "shell.execute_reply": "2024-04-16T08:40:59.722085Z"
    },
    "papermill": {
     "duration": 1.348934,
     "end_time": "2024-04-16T08:40:59.724705",
     "exception": false,
     "start_time": "2024-04-16T08:40:58.375771",
     "status": "completed"
    },
    "tags": []
   },
   "outputs": [
    {
     "data": {
      "image/png": "[encoded data removed]",
      "text/plain": [
       "<Figure size 1000x600 with 1 Axes>"
      ]
     },
     "metadata": {},
     "output_type": "display_data"
    }
   ],
   "source": [
    "plt.figure(figsize=(10,6))\n",
    "sns.barplot(data = df, x= 'age_group' , y='likes_received', hue='gender')\n",
    "plt.title('No. of likes received in each group')\n",
    "plt.xlabel('Age Groups')\n",
    "plt.ylabel('likes received')\n",
    "plt.show()"
   ]
  },
  {
   "cell_type": "code",
   "execution_count": 22,
   "id": "fffa6d77",
   "metadata": {
    "execution": {
     "iopub.execute_input": "2024-04-16T08:40:59.744021Z",
     "iopub.status.busy": "2024-04-16T08:40:59.743708Z",
     "iopub.status.idle": "2024-04-16T08:41:01.136499Z",
     "shell.execute_reply": "2024-04-16T08:41:01.134772Z"
    },
    "papermill": {
     "duration": 1.404972,
     "end_time": "2024-04-16T08:41:01.138940",
     "exception": false,
     "start_time": "2024-04-16T08:40:59.733968",
     "status": "completed"
    },
    "tags": []
   },
   "outputs": [
    {
     "data": {
      "image/png": "[encoded data removed]",
      "text/plain": [
       "<Figure size 1000x600 with 1 Axes>"
      ]
     },
     "metadata": {},
     "output_type": "display_data"
    }
   ],
   "source": [
    "plt.figure(figsize=(10,6))\n",
    "sns.barplot(data = df, x= 'age_group' , y='likes', hue='gender')\n",
    "plt.title('No. of likes in each group')\n",
    "plt.xlabel('Age Groups')\n",
    "plt.ylabel('likes')\n",
    "plt.show()"
   ]
  },
  {
   "cell_type": "code",
   "execution_count": 23,
   "id": "f4d65d6e",
   "metadata": {
    "execution": {
     "iopub.execute_input": "2024-04-16T08:41:01.162586Z",
     "iopub.status.busy": "2024-04-16T08:41:01.162234Z",
     "iopub.status.idle": "2024-04-16T08:41:02.558637Z",
     "shell.execute_reply": "2024-04-16T08:41:02.557982Z"
    },
    "papermill": {
     "duration": 1.410252,
     "end_time": "2024-04-16T08:41:02.560542",
     "exception": false,
     "start_time": "2024-04-16T08:41:01.150290",
     "status": "completed"
    },
    "tags": []
   },
   "outputs": [
    {
     "data": {
      "image/png": "[encoded data removed]",
      "text/plain": [
       "<Figure size 1000x600 with 1 Axes>"
      ]
     },
     "metadata": {},
     "output_type": "display_data"
    }
   ],
   "source": [
    "plt.figure(figsize=(10,6))\n",
    "sns.barplot(data = df, x= 'age_group' , y='friend_count', hue='gender')\n",
    "plt.title('No. of Friends in each group')\n",
    "plt.xlabel('Age Groups')\n",
    "plt.ylabel('Friend count')\n",
    "plt.show()"
   ]
  },
  {
   "cell_type": "code",
   "execution_count": null,
   "id": "7fcf9abf",
   "metadata": {
    "papermill": {
     "duration": 0.009328,
     "end_time": "2024-04-16T08:41:02.579729",
     "exception": false,
     "start_time": "2024-04-16T08:41:02.570401",
     "status": "completed"
    },
    "tags": []
   },
   "outputs": [],
   "source": []
  }
 ],
 "metadata": {
  "kaggle": {
   "accelerator": "none",
   "dataSources": [
    {
     "datasetId": 36954,
     "sourceId": 56227,
     "sourceType": "datasetVersion"
    }
   ],
   "dockerImageVersionId": 30684,
   "isGpuEnabled": false,
   "isInternetEnabled": true,
   "language": "python",
   "sourceType": "notebook"
  },
  "kernelspec": {
   "display_name": "Python 3",
   "language": "python",
   "name": "python3"
  },
  "language_info": {
   "codemirror_mode": {
    "name": "ipython",
    "version": 3
   },
   "file_extension": ".py",
   "mimetype": "text/x-python",
   "name": "python",
   "nbconvert_exporter": "python",
   "pygments_lexer": "ipython3",
   "version": "3.10.13"
  },
  "papermill": {
   "default_parameters": {},
   "duration": 11.157188,
   "end_time": "2024-04-16T08:41:03.109152",
   "environment_variables": {},
   "exception": null,
   "input_path": "__notebook__.ipynb",
   "output_path": "__notebook__.ipynb",
   "parameters": {},
   "start_time": "2024-04-16T08:40:51.951964",
   "version": "2.5.0"
  }
 },
 "nbformat": 4,
 "nbformat_minor": 5
}
