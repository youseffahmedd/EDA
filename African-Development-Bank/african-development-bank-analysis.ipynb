{
 "cells": [
  {
   "cell_type": "code",
   "execution_count": 1,
   "id": "c1dfd1d3",
   "metadata": {
    "execution": {
     "iopub.execute_input": "2024-03-09T12:52:55.195283Z",
     "iopub.status.busy": "2024-03-09T12:52:55.194774Z",
     "iopub.status.idle": "2024-03-09T12:52:57.539068Z",
     "shell.execute_reply": "2024-03-09T12:52:57.537663Z"
    },
    "papermill": {
     "duration": 2.35711,
     "end_time": "2024-03-09T12:52:57.542457",
     "exception": false,
     "start_time": "2024-03-09T12:52:55.185347",
     "status": "completed"
    },
    "tags": []
   },
   "outputs": [],
   "source": [
    "import pandas as pd\n",
    "import numpy as np\n",
    "import matplotlib.pyplot as plt\n",
    "import datetime as dt\n",
    "import seaborn as sns"
   ]
  },
  {
   "cell_type": "code",
   "execution_count": 2,
   "id": "d03ea784",
   "metadata": {
    "execution": {
     "iopub.execute_input": "2024-03-09T12:52:57.563359Z",
     "iopub.status.busy": "2024-03-09T12:52:57.562496Z",
     "iopub.status.idle": "2024-03-09T12:52:57.589917Z",
     "shell.execute_reply": "2024-03-09T12:52:57.588432Z"
    },
    "papermill": {
     "duration": 0.042865,
     "end_time": "2024-03-09T12:52:57.593257",
     "exception": false,
     "start_time": "2024-03-09T12:52:57.550392",
     "status": "completed"
    },
    "tags": []
   },
   "outputs": [],
   "source": [
    "data = pd.read_csv('/kaggle/input/african-development-bank/finance1.csv', encoding='latin-1')"
   ]
  },
  {
   "cell_type": "code",
   "execution_count": 3,
   "id": "4b68e693",
   "metadata": {
    "execution": {
     "iopub.execute_input": "2024-03-09T12:52:57.610033Z",
     "iopub.status.busy": "2024-03-09T12:52:57.609550Z",
     "iopub.status.idle": "2024-03-09T12:52:57.634657Z",
     "shell.execute_reply": "2024-03-09T12:52:57.633541Z"
    },
    "papermill": {
     "duration": 0.037442,
     "end_time": "2024-03-09T12:52:57.637994",
     "exception": false,
     "start_time": "2024-03-09T12:52:57.600552",
     "status": "completed"
    },
    "tags": []
   },
   "outputs": [
    {
     "data": {
      "text/html": [
       "<div>\n",
       "<style scoped>\n",
       "    .dataframe tbody tr th:only-of-type {\n",
       "        vertical-align: middle;\n",
       "    }\n",
       "\n",
       "    .dataframe tbody tr th {\n",
       "        vertical-align: top;\n",
       "    }\n",
       "\n",
       "    .dataframe thead th {\n",
       "        text-align: right;\n",
       "    }\n",
       "</style>\n",
       "<table border=\"1\" class=\"dataframe\">\n",
       "  <thead>\n",
       "    <tr style=\"text-align: right;\">\n",
       "      <th></th>\n",
       "      <th>Project Code</th>\n",
       "      <th>Title</th>\n",
       "      <th>Commitment in U.A</th>\n",
       "      <th>Country</th>\n",
       "      <th>Starting Date</th>\n",
       "      <th>Status</th>\n",
       "      <th>Source of Financing</th>\n",
       "      <th>Sector</th>\n",
       "      <th>Sovereign</th>\n",
       "    </tr>\n",
       "  </thead>\n",
       "  <tbody>\n",
       "    <tr>\n",
       "      <th>0</th>\n",
       "      <td>P-MG-H00-002</td>\n",
       "      <td>Madagascar - Industrialisation and Financial S...</td>\n",
       "      <td>12,080,000.00</td>\n",
       "      <td>Madagascar</td>\n",
       "      <td>28 Oct 2020</td>\n",
       "      <td>Approved</td>\n",
       "      <td>African Development Fund</td>\n",
       "      <td>Finance</td>\n",
       "      <td>Sovereign</td>\n",
       "    </tr>\n",
       "    <tr>\n",
       "      <th>1</th>\n",
       "      <td>P-Z1-H00-063</td>\n",
       "      <td>Multinational - Domestic debt markets developm...</td>\n",
       "      <td>1,500,000.00</td>\n",
       "      <td>Multinational</td>\n",
       "      <td>13 Oct 2020</td>\n",
       "      <td>Implementation</td>\n",
       "      <td>Fragile States Facility</td>\n",
       "      <td>Finance</td>\n",
       "      <td>Sovereign</td>\n",
       "    </tr>\n",
       "    <tr>\n",
       "      <th>2</th>\n",
       "      <td>P-MG-HAZ-001</td>\n",
       "      <td>Madagascar - SME Business Linkages Program</td>\n",
       "      <td>1,000,000.00</td>\n",
       "      <td>Madagascar</td>\n",
       "      <td>15 May 2020</td>\n",
       "      <td>Implementation</td>\n",
       "      <td>Fragile States Facility</td>\n",
       "      <td>Finance</td>\n",
       "      <td>Sovereign</td>\n",
       "    </tr>\n",
       "    <tr>\n",
       "      <th>3</th>\n",
       "      <td>P-MU-H00-004</td>\n",
       "      <td>Mauritius - Stock Exchange Mauritius (SEM) Pro...</td>\n",
       "      <td>430,000.00</td>\n",
       "      <td>Mauritius</td>\n",
       "      <td>27 Apr 2020</td>\n",
       "      <td>Implementation</td>\n",
       "      <td>Middle Income Countries Fund</td>\n",
       "      <td>Finance</td>\n",
       "      <td>Sovereign</td>\n",
       "    </tr>\n",
       "    <tr>\n",
       "      <th>4</th>\n",
       "      <td>P-AO-HAB-009</td>\n",
       "      <td>Angola - Line of Credit to « Banco Millennium ...</td>\n",
       "      <td>23,415,605.04</td>\n",
       "      <td>Angola</td>\n",
       "      <td>15 Apr 2020</td>\n",
       "      <td>Approved</td>\n",
       "      <td>African Development Bank</td>\n",
       "      <td>Finance</td>\n",
       "      <td>Non Sovereign</td>\n",
       "    </tr>\n",
       "  </tbody>\n",
       "</table>\n",
       "</div>"
      ],
      "text/plain": [
       "   Project Code                                              Title  \\\n",
       "0  P-MG-H00-002  Madagascar - Industrialisation and Financial S...   \n",
       "1  P-Z1-H00-063  Multinational - Domestic debt markets developm...   \n",
       "2  P-MG-HAZ-001         Madagascar - SME Business Linkages Program   \n",
       "3  P-MU-H00-004  Mauritius - Stock Exchange Mauritius (SEM) Pro...   \n",
       "4  P-AO-HAB-009  Angola - Line of Credit to « Banco Millennium ...   \n",
       "\n",
       "  Commitment in U.A        Country Starting Date          Status  \\\n",
       "0     12,080,000.00     Madagascar   28 Oct 2020        Approved   \n",
       "1      1,500,000.00  Multinational   13 Oct 2020  Implementation   \n",
       "2      1,000,000.00     Madagascar   15 May 2020  Implementation   \n",
       "3        430,000.00      Mauritius   27 Apr 2020  Implementation   \n",
       "4     23,415,605.04         Angola   15 Apr 2020        Approved   \n",
       "\n",
       "            Source of Financing   Sector      Sovereign  \n",
       "0      African Development Fund  Finance      Sovereign  \n",
       "1       Fragile States Facility  Finance      Sovereign  \n",
       "2       Fragile States Facility  Finance      Sovereign  \n",
       "3  Middle Income Countries Fund  Finance      Sovereign  \n",
       "4      African Development Bank  Finance  Non Sovereign  "
      ]
     },
     "execution_count": 3,
     "metadata": {},
     "output_type": "execute_result"
    }
   ],
   "source": [
    "data.head()"
   ]
  },
  {
   "cell_type": "code",
   "execution_count": 4,
   "id": "2991f049",
   "metadata": {
    "execution": {
     "iopub.execute_input": "2024-03-09T12:52:57.655108Z",
     "iopub.status.busy": "2024-03-09T12:52:57.654613Z",
     "iopub.status.idle": "2024-03-09T12:52:57.661912Z",
     "shell.execute_reply": "2024-03-09T12:52:57.660567Z"
    },
    "papermill": {
     "duration": 0.019557,
     "end_time": "2024-03-09T12:52:57.664818",
     "exception": false,
     "start_time": "2024-03-09T12:52:57.645261",
     "status": "completed"
    },
    "tags": []
   },
   "outputs": [
    {
     "data": {
      "text/plain": [
       "(355, 9)"
      ]
     },
     "execution_count": 4,
     "metadata": {},
     "output_type": "execute_result"
    }
   ],
   "source": [
    "data.shape"
   ]
  },
  {
   "cell_type": "code",
   "execution_count": 5,
   "id": "99a11794",
   "metadata": {
    "execution": {
     "iopub.execute_input": "2024-03-09T12:52:57.682311Z",
     "iopub.status.busy": "2024-03-09T12:52:57.681775Z",
     "iopub.status.idle": "2024-03-09T12:52:57.699895Z",
     "shell.execute_reply": "2024-03-09T12:52:57.698642Z"
    },
    "papermill": {
     "duration": 0.03056,
     "end_time": "2024-03-09T12:52:57.702921",
     "exception": false,
     "start_time": "2024-03-09T12:52:57.672361",
     "status": "completed"
    },
    "tags": []
   },
   "outputs": [
    {
     "data": {
      "text/plain": [
       "17"
      ]
     },
     "execution_count": 5,
     "metadata": {},
     "output_type": "execute_result"
    }
   ],
   "source": [
    "data.duplicated().sum()"
   ]
  },
  {
   "cell_type": "code",
   "execution_count": 6,
   "id": "c2295c31",
   "metadata": {
    "execution": {
     "iopub.execute_input": "2024-03-09T12:52:57.725337Z",
     "iopub.status.busy": "2024-03-09T12:52:57.724670Z",
     "iopub.status.idle": "2024-03-09T12:52:57.750928Z",
     "shell.execute_reply": "2024-03-09T12:52:57.749487Z"
    },
    "papermill": {
     "duration": 0.042022,
     "end_time": "2024-03-09T12:52:57.754680",
     "exception": false,
     "start_time": "2024-03-09T12:52:57.712658",
     "status": "completed"
    },
    "tags": []
   },
   "outputs": [
    {
     "name": "stdout",
     "output_type": "stream",
     "text": [
      "<class 'pandas.core.frame.DataFrame'>\n",
      "RangeIndex: 355 entries, 0 to 354\n",
      "Data columns (total 9 columns):\n",
      " #   Column               Non-Null Count  Dtype \n",
      "---  ------               --------------  ----- \n",
      " 0   Project Code         337 non-null    object\n",
      " 1   Title                336 non-null    object\n",
      " 2   Commitment in U.A    336 non-null    object\n",
      " 3   Country              336 non-null    object\n",
      " 4   Starting Date        336 non-null    object\n",
      " 5   Status               336 non-null    object\n",
      " 6   Source of Financing  336 non-null    object\n",
      " 7   Sector               336 non-null    object\n",
      " 8   Sovereign            281 non-null    object\n",
      "dtypes: object(9)\n",
      "memory usage: 25.1+ KB\n"
     ]
    }
   ],
   "source": [
    "data.info()"
   ]
  },
  {
   "cell_type": "code",
   "execution_count": 7,
   "id": "1d80ed64",
   "metadata": {
    "execution": {
     "iopub.execute_input": "2024-03-09T12:52:57.776861Z",
     "iopub.status.busy": "2024-03-09T12:52:57.776371Z",
     "iopub.status.idle": "2024-03-09T12:52:57.786392Z",
     "shell.execute_reply": "2024-03-09T12:52:57.785276Z"
    },
    "papermill": {
     "duration": 0.023078,
     "end_time": "2024-03-09T12:52:57.788847",
     "exception": false,
     "start_time": "2024-03-09T12:52:57.765769",
     "status": "completed"
    },
    "tags": []
   },
   "outputs": [],
   "source": [
    "df = data.dropna()"
   ]
  },
  {
   "cell_type": "code",
   "execution_count": 8,
   "id": "2514cf0a",
   "metadata": {
    "execution": {
     "iopub.execute_input": "2024-03-09T12:52:57.806970Z",
     "iopub.status.busy": "2024-03-09T12:52:57.806204Z",
     "iopub.status.idle": "2024-03-09T12:52:57.816360Z",
     "shell.execute_reply": "2024-03-09T12:52:57.815153Z"
    },
    "papermill": {
     "duration": 0.022359,
     "end_time": "2024-03-09T12:52:57.819081",
     "exception": false,
     "start_time": "2024-03-09T12:52:57.796722",
     "status": "completed"
    },
    "tags": []
   },
   "outputs": [
    {
     "data": {
      "text/plain": [
       "0"
      ]
     },
     "execution_count": 8,
     "metadata": {},
     "output_type": "execute_result"
    }
   ],
   "source": [
    "df.duplicated().sum()"
   ]
  },
  {
   "cell_type": "code",
   "execution_count": 9,
   "id": "8c3110a7",
   "metadata": {
    "execution": {
     "iopub.execute_input": "2024-03-09T12:52:57.837677Z",
     "iopub.status.busy": "2024-03-09T12:52:57.836857Z",
     "iopub.status.idle": "2024-03-09T12:52:57.850793Z",
     "shell.execute_reply": "2024-03-09T12:52:57.849711Z"
    },
    "papermill": {
     "duration": 0.026327,
     "end_time": "2024-03-09T12:52:57.853726",
     "exception": false,
     "start_time": "2024-03-09T12:52:57.827399",
     "status": "completed"
    },
    "tags": []
   },
   "outputs": [
    {
     "name": "stderr",
     "output_type": "stream",
     "text": [
      "/tmp/ipykernel_18/3688471821.py:1: SettingWithCopyWarning: \n",
      "A value is trying to be set on a copy of a slice from a DataFrame.\n",
      "Try using .loc[row_indexer,col_indexer] = value instead\n",
      "\n",
      "See the caveats in the documentation: https://pandas.pydata.org/pandas-docs/stable/user_guide/indexing.html#returning-a-view-versus-a-copy\n",
      "  df['Starting Date'] = pd.to_datetime(df['Starting Date'])\n"
     ]
    }
   ],
   "source": [
    "df['Starting Date'] = pd.to_datetime(df['Starting Date'])"
   ]
  },
  {
   "cell_type": "code",
   "execution_count": 10,
   "id": "48421f41",
   "metadata": {
    "execution": {
     "iopub.execute_input": "2024-03-09T12:52:57.872152Z",
     "iopub.status.busy": "2024-03-09T12:52:57.871465Z",
     "iopub.status.idle": "2024-03-09T12:52:57.882882Z",
     "shell.execute_reply": "2024-03-09T12:52:57.881670Z"
    },
    "papermill": {
     "duration": 0.023713,
     "end_time": "2024-03-09T12:52:57.885564",
     "exception": false,
     "start_time": "2024-03-09T12:52:57.861851",
     "status": "completed"
    },
    "tags": []
   },
   "outputs": [
    {
     "name": "stdout",
     "output_type": "stream",
     "text": [
      "<class 'pandas.core.frame.DataFrame'>\n",
      "Index: 280 entries, 0 to 351\n",
      "Data columns (total 9 columns):\n",
      " #   Column               Non-Null Count  Dtype         \n",
      "---  ------               --------------  -----         \n",
      " 0   Project Code         280 non-null    object        \n",
      " 1   Title                280 non-null    object        \n",
      " 2   Commitment in U.A    280 non-null    object        \n",
      " 3   Country              280 non-null    object        \n",
      " 4   Starting Date        280 non-null    datetime64[ns]\n",
      " 5   Status               280 non-null    object        \n",
      " 6   Source of Financing  280 non-null    object        \n",
      " 7   Sector               280 non-null    object        \n",
      " 8   Sovereign            280 non-null    object        \n",
      "dtypes: datetime64[ns](1), object(8)\n",
      "memory usage: 21.9+ KB\n"
     ]
    }
   ],
   "source": [
    "df.info()"
   ]
  },
  {
   "cell_type": "code",
   "execution_count": 11,
   "id": "9a9dc3c1",
   "metadata": {
    "execution": {
     "iopub.execute_input": "2024-03-09T12:52:57.903969Z",
     "iopub.status.busy": "2024-03-09T12:52:57.903304Z",
     "iopub.status.idle": "2024-03-09T12:52:57.910654Z",
     "shell.execute_reply": "2024-03-09T12:52:57.909567Z"
    },
    "papermill": {
     "duration": 0.020007,
     "end_time": "2024-03-09T12:52:57.913679",
     "exception": false,
     "start_time": "2024-03-09T12:52:57.893672",
     "status": "completed"
    },
    "tags": []
   },
   "outputs": [
    {
     "name": "stderr",
     "output_type": "stream",
     "text": [
      "/tmp/ipykernel_18/1448124580.py:1: SettingWithCopyWarning: \n",
      "A value is trying to be set on a copy of a slice from a DataFrame.\n",
      "Try using .loc[row_indexer,col_indexer] = value instead\n",
      "\n",
      "See the caveats in the documentation: https://pandas.pydata.org/pandas-docs/stable/user_guide/indexing.html#returning-a-view-versus-a-copy\n",
      "  df['starting_year'] = df['Starting Date'].dt.year\n"
     ]
    }
   ],
   "source": [
    "df['starting_year'] = df['Starting Date'].dt.year"
   ]
  },
  {
   "cell_type": "code",
   "execution_count": 12,
   "id": "34ce1a56",
   "metadata": {
    "execution": {
     "iopub.execute_input": "2024-03-09T12:52:57.934103Z",
     "iopub.status.busy": "2024-03-09T12:52:57.933445Z",
     "iopub.status.idle": "2024-03-09T12:52:57.950419Z",
     "shell.execute_reply": "2024-03-09T12:52:57.949189Z"
    },
    "papermill": {
     "duration": 0.030038,
     "end_time": "2024-03-09T12:52:57.952954",
     "exception": false,
     "start_time": "2024-03-09T12:52:57.922916",
     "status": "completed"
    },
    "tags": []
   },
   "outputs": [
    {
     "data": {
      "text/html": [
       "<div>\n",
       "<style scoped>\n",
       "    .dataframe tbody tr th:only-of-type {\n",
       "        vertical-align: middle;\n",
       "    }\n",
       "\n",
       "    .dataframe tbody tr th {\n",
       "        vertical-align: top;\n",
       "    }\n",
       "\n",
       "    .dataframe thead th {\n",
       "        text-align: right;\n",
       "    }\n",
       "</style>\n",
       "<table border=\"1\" class=\"dataframe\">\n",
       "  <thead>\n",
       "    <tr style=\"text-align: right;\">\n",
       "      <th></th>\n",
       "      <th>Project Code</th>\n",
       "      <th>Title</th>\n",
       "      <th>Commitment in U.A</th>\n",
       "      <th>Country</th>\n",
       "      <th>Starting Date</th>\n",
       "      <th>Status</th>\n",
       "      <th>Source of Financing</th>\n",
       "      <th>Sector</th>\n",
       "      <th>Sovereign</th>\n",
       "      <th>starting_year</th>\n",
       "    </tr>\n",
       "  </thead>\n",
       "  <tbody>\n",
       "    <tr>\n",
       "      <th>0</th>\n",
       "      <td>P-MG-H00-002</td>\n",
       "      <td>Madagascar - Industrialisation and Financial S...</td>\n",
       "      <td>12,080,000.00</td>\n",
       "      <td>Madagascar</td>\n",
       "      <td>2020-10-28</td>\n",
       "      <td>Approved</td>\n",
       "      <td>African Development Fund</td>\n",
       "      <td>Finance</td>\n",
       "      <td>Sovereign</td>\n",
       "      <td>2020</td>\n",
       "    </tr>\n",
       "    <tr>\n",
       "      <th>1</th>\n",
       "      <td>P-Z1-H00-063</td>\n",
       "      <td>Multinational - Domestic debt markets developm...</td>\n",
       "      <td>1,500,000.00</td>\n",
       "      <td>Multinational</td>\n",
       "      <td>2020-10-13</td>\n",
       "      <td>Implementation</td>\n",
       "      <td>Fragile States Facility</td>\n",
       "      <td>Finance</td>\n",
       "      <td>Sovereign</td>\n",
       "      <td>2020</td>\n",
       "    </tr>\n",
       "    <tr>\n",
       "      <th>2</th>\n",
       "      <td>P-MG-HAZ-001</td>\n",
       "      <td>Madagascar - SME Business Linkages Program</td>\n",
       "      <td>1,000,000.00</td>\n",
       "      <td>Madagascar</td>\n",
       "      <td>2020-05-15</td>\n",
       "      <td>Implementation</td>\n",
       "      <td>Fragile States Facility</td>\n",
       "      <td>Finance</td>\n",
       "      <td>Sovereign</td>\n",
       "      <td>2020</td>\n",
       "    </tr>\n",
       "    <tr>\n",
       "      <th>3</th>\n",
       "      <td>P-MU-H00-004</td>\n",
       "      <td>Mauritius - Stock Exchange Mauritius (SEM) Pro...</td>\n",
       "      <td>430,000.00</td>\n",
       "      <td>Mauritius</td>\n",
       "      <td>2020-04-27</td>\n",
       "      <td>Implementation</td>\n",
       "      <td>Middle Income Countries Fund</td>\n",
       "      <td>Finance</td>\n",
       "      <td>Sovereign</td>\n",
       "      <td>2020</td>\n",
       "    </tr>\n",
       "    <tr>\n",
       "      <th>4</th>\n",
       "      <td>P-AO-HAB-009</td>\n",
       "      <td>Angola - Line of Credit to « Banco Millennium ...</td>\n",
       "      <td>23,415,605.04</td>\n",
       "      <td>Angola</td>\n",
       "      <td>2020-04-15</td>\n",
       "      <td>Approved</td>\n",
       "      <td>African Development Bank</td>\n",
       "      <td>Finance</td>\n",
       "      <td>Non Sovereign</td>\n",
       "      <td>2020</td>\n",
       "    </tr>\n",
       "  </tbody>\n",
       "</table>\n",
       "</div>"
      ],
      "text/plain": [
       "   Project Code                                              Title  \\\n",
       "0  P-MG-H00-002  Madagascar - Industrialisation and Financial S...   \n",
       "1  P-Z1-H00-063  Multinational - Domestic debt markets developm...   \n",
       "2  P-MG-HAZ-001         Madagascar - SME Business Linkages Program   \n",
       "3  P-MU-H00-004  Mauritius - Stock Exchange Mauritius (SEM) Pro...   \n",
       "4  P-AO-HAB-009  Angola - Line of Credit to « Banco Millennium ...   \n",
       "\n",
       "  Commitment in U.A        Country Starting Date          Status  \\\n",
       "0     12,080,000.00     Madagascar    2020-10-28        Approved   \n",
       "1      1,500,000.00  Multinational    2020-10-13  Implementation   \n",
       "2      1,000,000.00     Madagascar    2020-05-15  Implementation   \n",
       "3        430,000.00      Mauritius    2020-04-27  Implementation   \n",
       "4     23,415,605.04         Angola    2020-04-15        Approved   \n",
       "\n",
       "            Source of Financing   Sector      Sovereign  starting_year  \n",
       "0      African Development Fund  Finance      Sovereign           2020  \n",
       "1       Fragile States Facility  Finance      Sovereign           2020  \n",
       "2       Fragile States Facility  Finance      Sovereign           2020  \n",
       "3  Middle Income Countries Fund  Finance      Sovereign           2020  \n",
       "4      African Development Bank  Finance  Non Sovereign           2020  "
      ]
     },
     "execution_count": 12,
     "metadata": {},
     "output_type": "execute_result"
    }
   ],
   "source": [
    "df.head()"
   ]
  },
  {
   "cell_type": "code",
   "execution_count": 13,
   "id": "ebd5df2c",
   "metadata": {
    "execution": {
     "iopub.execute_input": "2024-03-09T12:52:57.972564Z",
     "iopub.status.busy": "2024-03-09T12:52:57.971816Z",
     "iopub.status.idle": "2024-03-09T12:52:57.989725Z",
     "shell.execute_reply": "2024-03-09T12:52:57.988484Z"
    },
    "papermill": {
     "duration": 0.030687,
     "end_time": "2024-03-09T12:52:57.992230",
     "exception": false,
     "start_time": "2024-03-09T12:52:57.961543",
     "status": "completed"
    },
    "tags": []
   },
   "outputs": [
    {
     "data": {
      "text/html": [
       "<div>\n",
       "<style scoped>\n",
       "    .dataframe tbody tr th:only-of-type {\n",
       "        vertical-align: middle;\n",
       "    }\n",
       "\n",
       "    .dataframe tbody tr th {\n",
       "        vertical-align: top;\n",
       "    }\n",
       "\n",
       "    .dataframe thead th {\n",
       "        text-align: right;\n",
       "    }\n",
       "</style>\n",
       "<table border=\"1\" class=\"dataframe\">\n",
       "  <thead>\n",
       "    <tr style=\"text-align: right;\">\n",
       "      <th></th>\n",
       "      <th>Project Code</th>\n",
       "      <th>Title</th>\n",
       "      <th>Commitment in U.A</th>\n",
       "      <th>Country</th>\n",
       "      <th>Starting Date</th>\n",
       "      <th>Status</th>\n",
       "      <th>Source of Financing</th>\n",
       "      <th>Sector</th>\n",
       "      <th>Sovereign</th>\n",
       "      <th>starting_year</th>\n",
       "    </tr>\n",
       "  </thead>\n",
       "  <tbody>\n",
       "    <tr>\n",
       "      <th>10</th>\n",
       "      <td>P-ML-HZ0-001</td>\n",
       "      <td>Mali - African Trade Insurance Agency (ATI): C...</td>\n",
       "      <td>7,290,000.00</td>\n",
       "      <td>Mali</td>\n",
       "      <td>2019-12-05</td>\n",
       "      <td>Approved</td>\n",
       "      <td>African Development Fund</td>\n",
       "      <td>Finance</td>\n",
       "      <td>Sovereign</td>\n",
       "      <td>2019</td>\n",
       "    </tr>\n",
       "    <tr>\n",
       "      <th>11</th>\n",
       "      <td>P-KE-HAB-030</td>\n",
       "      <td>Kenya - Equity Group Holdings Plc</td>\n",
       "      <td>73,173,765.74</td>\n",
       "      <td>Kenya</td>\n",
       "      <td>2019-11-28</td>\n",
       "      <td>Approved</td>\n",
       "      <td>African Development Bank</td>\n",
       "      <td>Finance</td>\n",
       "      <td>Non Sovereign</td>\n",
       "      <td>2019</td>\n",
       "    </tr>\n",
       "    <tr>\n",
       "      <th>12</th>\n",
       "      <td>P-MA-HAA-012</td>\n",
       "      <td>Morocco - \"Fonds dEquipement Communal (FEC)\"</td>\n",
       "      <td>79,781,717.22</td>\n",
       "      <td>Morocco</td>\n",
       "      <td>2019-11-28</td>\n",
       "      <td>Approved</td>\n",
       "      <td>African Development Bank</td>\n",
       "      <td>Finance</td>\n",
       "      <td>Non Sovereign</td>\n",
       "      <td>2019</td>\n",
       "    </tr>\n",
       "    <tr>\n",
       "      <th>13</th>\n",
       "      <td>P-Z1-HB0-064</td>\n",
       "      <td>Multinational  Project for Digitisation of Go...</td>\n",
       "      <td>1,258,000.00</td>\n",
       "      <td>Multinational</td>\n",
       "      <td>2019-11-25</td>\n",
       "      <td>Implementation</td>\n",
       "      <td>Fragile States Facility</td>\n",
       "      <td>Finance</td>\n",
       "      <td>Sovereign</td>\n",
       "      <td>2019</td>\n",
       "    </tr>\n",
       "    <tr>\n",
       "      <th>14</th>\n",
       "      <td>P-Z1-HB0-071</td>\n",
       "      <td>SIERRA LEONE - Government Payments Digitizatio...</td>\n",
       "      <td>279,000.00</td>\n",
       "      <td>Multinational</td>\n",
       "      <td>2019-11-25</td>\n",
       "      <td>Approved</td>\n",
       "      <td>Fragile States Facility</td>\n",
       "      <td>Finance</td>\n",
       "      <td>Sovereign</td>\n",
       "      <td>2019</td>\n",
       "    </tr>\n",
       "  </tbody>\n",
       "</table>\n",
       "</div>"
      ],
      "text/plain": [
       "    Project Code                                              Title  \\\n",
       "10  P-ML-HZ0-001  Mali - African Trade Insurance Agency (ATI): C...   \n",
       "11  P-KE-HAB-030                  Kenya - Equity Group Holdings Plc   \n",
       "12  P-MA-HAA-012      Morocco - \"Fonds dEquipement Communal (FEC)\"   \n",
       "13  P-Z1-HB0-064  Multinational  Project for Digitisation of Go...   \n",
       "14  P-Z1-HB0-071  SIERRA LEONE - Government Payments Digitizatio...   \n",
       "\n",
       "   Commitment in U.A        Country Starting Date          Status  \\\n",
       "10      7,290,000.00           Mali    2019-12-05        Approved   \n",
       "11     73,173,765.74          Kenya    2019-11-28        Approved   \n",
       "12     79,781,717.22        Morocco    2019-11-28        Approved   \n",
       "13      1,258,000.00  Multinational    2019-11-25  Implementation   \n",
       "14        279,000.00  Multinational    2019-11-25        Approved   \n",
       "\n",
       "         Source of Financing   Sector      Sovereign  starting_year  \n",
       "10  African Development Fund  Finance      Sovereign           2019  \n",
       "11  African Development Bank  Finance  Non Sovereign           2019  \n",
       "12  African Development Bank  Finance  Non Sovereign           2019  \n",
       "13   Fragile States Facility  Finance      Sovereign           2019  \n",
       "14   Fragile States Facility  Finance      Sovereign           2019  "
      ]
     },
     "execution_count": 13,
     "metadata": {},
     "output_type": "execute_result"
    }
   ],
   "source": [
    "df2 = df[ df['starting_year'] == 2019 ]\n",
    "df2.head()"
   ]
  },
  {
   "cell_type": "code",
   "execution_count": 14,
   "id": "55c417d7",
   "metadata": {
    "execution": {
     "iopub.execute_input": "2024-03-09T12:52:58.012805Z",
     "iopub.status.busy": "2024-03-09T12:52:58.012044Z",
     "iopub.status.idle": "2024-03-09T12:52:58.020026Z",
     "shell.execute_reply": "2024-03-09T12:52:58.019190Z"
    },
    "papermill": {
     "duration": 0.021154,
     "end_time": "2024-03-09T12:52:58.022415",
     "exception": false,
     "start_time": "2024-03-09T12:52:58.001261",
     "status": "completed"
    },
    "tags": []
   },
   "outputs": [],
   "source": [
    "df2 = df2.drop(['Project Code', 'Title', 'Starting Date', 'Status', 'Source of Financing', 'Sector', 'Sovereign'], axis=1)"
   ]
  },
  {
   "cell_type": "code",
   "execution_count": 15,
   "id": "95fe823e",
   "metadata": {
    "execution": {
     "iopub.execute_input": "2024-03-09T12:52:58.043019Z",
     "iopub.status.busy": "2024-03-09T12:52:58.042343Z",
     "iopub.status.idle": "2024-03-09T12:52:58.053885Z",
     "shell.execute_reply": "2024-03-09T12:52:58.052760Z"
    },
    "papermill": {
     "duration": 0.024561,
     "end_time": "2024-03-09T12:52:58.056301",
     "exception": false,
     "start_time": "2024-03-09T12:52:58.031740",
     "status": "completed"
    },
    "tags": []
   },
   "outputs": [
    {
     "data": {
      "text/html": [
       "<div>\n",
       "<style scoped>\n",
       "    .dataframe tbody tr th:only-of-type {\n",
       "        vertical-align: middle;\n",
       "    }\n",
       "\n",
       "    .dataframe tbody tr th {\n",
       "        vertical-align: top;\n",
       "    }\n",
       "\n",
       "    .dataframe thead th {\n",
       "        text-align: right;\n",
       "    }\n",
       "</style>\n",
       "<table border=\"1\" class=\"dataframe\">\n",
       "  <thead>\n",
       "    <tr style=\"text-align: right;\">\n",
       "      <th></th>\n",
       "      <th>Commitment in U.A</th>\n",
       "      <th>Country</th>\n",
       "      <th>starting_year</th>\n",
       "    </tr>\n",
       "  </thead>\n",
       "  <tbody>\n",
       "    <tr>\n",
       "      <th>10</th>\n",
       "      <td>7,290,000.00</td>\n",
       "      <td>Mali</td>\n",
       "      <td>2019</td>\n",
       "    </tr>\n",
       "    <tr>\n",
       "      <th>11</th>\n",
       "      <td>73,173,765.74</td>\n",
       "      <td>Kenya</td>\n",
       "      <td>2019</td>\n",
       "    </tr>\n",
       "    <tr>\n",
       "      <th>12</th>\n",
       "      <td>79,781,717.22</td>\n",
       "      <td>Morocco</td>\n",
       "      <td>2019</td>\n",
       "    </tr>\n",
       "    <tr>\n",
       "      <th>13</th>\n",
       "      <td>1,258,000.00</td>\n",
       "      <td>Multinational</td>\n",
       "      <td>2019</td>\n",
       "    </tr>\n",
       "    <tr>\n",
       "      <th>14</th>\n",
       "      <td>279,000.00</td>\n",
       "      <td>Multinational</td>\n",
       "      <td>2019</td>\n",
       "    </tr>\n",
       "  </tbody>\n",
       "</table>\n",
       "</div>"
      ],
      "text/plain": [
       "   Commitment in U.A        Country  starting_year\n",
       "10      7,290,000.00           Mali           2019\n",
       "11     73,173,765.74          Kenya           2019\n",
       "12     79,781,717.22        Morocco           2019\n",
       "13      1,258,000.00  Multinational           2019\n",
       "14        279,000.00  Multinational           2019"
      ]
     },
     "execution_count": 15,
     "metadata": {},
     "output_type": "execute_result"
    }
   ],
   "source": [
    "df2.head()"
   ]
  },
  {
   "cell_type": "code",
   "execution_count": 16,
   "id": "14ebad2a",
   "metadata": {
    "execution": {
     "iopub.execute_input": "2024-03-09T12:52:58.077351Z",
     "iopub.status.busy": "2024-03-09T12:52:58.076934Z",
     "iopub.status.idle": "2024-03-09T12:52:58.082832Z",
     "shell.execute_reply": "2024-03-09T12:52:58.081677Z"
    },
    "papermill": {
     "duration": 0.019659,
     "end_time": "2024-03-09T12:52:58.085134",
     "exception": false,
     "start_time": "2024-03-09T12:52:58.065475",
     "status": "completed"
    },
    "tags": []
   },
   "outputs": [],
   "source": [
    "df2['Commitment in U.A'] = df2['Commitment in U.A'].str.replace(r',','')"
   ]
  },
  {
   "cell_type": "code",
   "execution_count": 17,
   "id": "831111b9",
   "metadata": {
    "execution": {
     "iopub.execute_input": "2024-03-09T12:52:58.105834Z",
     "iopub.status.busy": "2024-03-09T12:52:58.105198Z",
     "iopub.status.idle": "2024-03-09T12:52:58.111568Z",
     "shell.execute_reply": "2024-03-09T12:52:58.110664Z"
    },
    "papermill": {
     "duration": 0.019489,
     "end_time": "2024-03-09T12:52:58.113888",
     "exception": false,
     "start_time": "2024-03-09T12:52:58.094399",
     "status": "completed"
    },
    "tags": []
   },
   "outputs": [],
   "source": [
    "df2['Commitment in U.A'] = df2['Commitment in U.A'].apply(pd.to_numeric)"
   ]
  },
  {
   "cell_type": "code",
   "execution_count": 18,
   "id": "cf8d7e99",
   "metadata": {
    "execution": {
     "iopub.execute_input": "2024-03-09T12:52:58.135446Z",
     "iopub.status.busy": "2024-03-09T12:52:58.133672Z",
     "iopub.status.idle": "2024-03-09T12:52:58.146590Z",
     "shell.execute_reply": "2024-03-09T12:52:58.145472Z"
    },
    "papermill": {
     "duration": 0.025843,
     "end_time": "2024-03-09T12:52:58.148917",
     "exception": false,
     "start_time": "2024-03-09T12:52:58.123074",
     "status": "completed"
    },
    "tags": []
   },
   "outputs": [
    {
     "data": {
      "text/html": [
       "<div>\n",
       "<style scoped>\n",
       "    .dataframe tbody tr th:only-of-type {\n",
       "        vertical-align: middle;\n",
       "    }\n",
       "\n",
       "    .dataframe tbody tr th {\n",
       "        vertical-align: top;\n",
       "    }\n",
       "\n",
       "    .dataframe thead th {\n",
       "        text-align: right;\n",
       "    }\n",
       "</style>\n",
       "<table border=\"1\" class=\"dataframe\">\n",
       "  <thead>\n",
       "    <tr style=\"text-align: right;\">\n",
       "      <th></th>\n",
       "      <th>Country</th>\n",
       "      <th>count</th>\n",
       "    </tr>\n",
       "  </thead>\n",
       "  <tbody>\n",
       "    <tr>\n",
       "      <th>0</th>\n",
       "      <td>Multinational</td>\n",
       "      <td>10</td>\n",
       "    </tr>\n",
       "    <tr>\n",
       "      <th>1</th>\n",
       "      <td>Tunisia</td>\n",
       "      <td>4</td>\n",
       "    </tr>\n",
       "    <tr>\n",
       "      <th>2</th>\n",
       "      <td>Kenya</td>\n",
       "      <td>3</td>\n",
       "    </tr>\n",
       "    <tr>\n",
       "      <th>3</th>\n",
       "      <td>Mali</td>\n",
       "      <td>1</td>\n",
       "    </tr>\n",
       "    <tr>\n",
       "      <th>4</th>\n",
       "      <td>Morocco</td>\n",
       "      <td>1</td>\n",
       "    </tr>\n",
       "    <tr>\n",
       "      <th>5</th>\n",
       "      <td>Guinea</td>\n",
       "      <td>1</td>\n",
       "    </tr>\n",
       "    <tr>\n",
       "      <th>6</th>\n",
       "      <td>Senegal</td>\n",
       "      <td>1</td>\n",
       "    </tr>\n",
       "    <tr>\n",
       "      <th>7</th>\n",
       "      <td>Rwanda</td>\n",
       "      <td>1</td>\n",
       "    </tr>\n",
       "    <tr>\n",
       "      <th>8</th>\n",
       "      <td>Mozambique</td>\n",
       "      <td>1</td>\n",
       "    </tr>\n",
       "    <tr>\n",
       "      <th>9</th>\n",
       "      <td>Madagascar</td>\n",
       "      <td>1</td>\n",
       "    </tr>\n",
       "    <tr>\n",
       "      <th>10</th>\n",
       "      <td>Botswana</td>\n",
       "      <td>1</td>\n",
       "    </tr>\n",
       "    <tr>\n",
       "      <th>11</th>\n",
       "      <td>Nigeria</td>\n",
       "      <td>1</td>\n",
       "    </tr>\n",
       "  </tbody>\n",
       "</table>\n",
       "</div>"
      ],
      "text/plain": [
       "          Country  count\n",
       "0   Multinational     10\n",
       "1         Tunisia      4\n",
       "2           Kenya      3\n",
       "3            Mali      1\n",
       "4         Morocco      1\n",
       "5          Guinea      1\n",
       "6         Senegal      1\n",
       "7          Rwanda      1\n",
       "8      Mozambique      1\n",
       "9      Madagascar      1\n",
       "10       Botswana      1\n",
       "11        Nigeria      1"
      ]
     },
     "execution_count": 18,
     "metadata": {},
     "output_type": "execute_result"
    }
   ],
   "source": [
    "df2['Country'].value_counts().reset_index()"
   ]
  },
  {
   "cell_type": "code",
   "execution_count": 19,
   "id": "1cf19586",
   "metadata": {
    "execution": {
     "iopub.execute_input": "2024-03-09T12:52:58.170200Z",
     "iopub.status.busy": "2024-03-09T12:52:58.169127Z",
     "iopub.status.idle": "2024-03-09T12:52:58.756992Z",
     "shell.execute_reply": "2024-03-09T12:52:58.755746Z"
    },
    "papermill": {
     "duration": 0.601475,
     "end_time": "2024-03-09T12:52:58.759728",
     "exception": false,
     "start_time": "2024-03-09T12:52:58.158253",
     "status": "completed"
    },
    "tags": []
   },
   "outputs": [
    {
     "data": {
      "text/plain": [
       "<Axes: xlabel='Country', ylabel='Commitment in U.A'>"
      ]
     },
     "execution_count": 19,
     "metadata": {},
     "output_type": "execute_result"
    },
    {
     "data": {
      "image/png": "[encoded data removed]",
      "text/plain": [
       "<Figure size 1200x600 with 1 Axes>"
      ]
     },
     "metadata": {},
     "output_type": "display_data"
    }
   ],
   "source": [
    "plt.figure(figsize=(12, 6))\n",
    "sns.barplot(x='Country', y='Commitment in U.A', data=df2)"
   ]
  },
  {
   "cell_type": "code",
   "execution_count": null,
   "id": "659ea692",
   "metadata": {
    "papermill": {
     "duration": 0.010214,
     "end_time": "2024-03-09T12:52:58.780536",
     "exception": false,
     "start_time": "2024-03-09T12:52:58.770322",
     "status": "completed"
    },
    "tags": []
   },
   "outputs": [],
   "source": []
  }
 ],
 "metadata": {
  "kaggle": {
   "accelerator": "none",
   "dataSources": [
    {
     "datasetId": 996014,
     "sourceId": 1681046,
     "sourceType": "datasetVersion"
    }
   ],
   "dockerImageVersionId": 30664,
   "isGpuEnabled": false,
   "isInternetEnabled": true,
   "language": "python",
   "sourceType": "notebook"
  },
  "kernelspec": {
   "display_name": "Python 3",
   "language": "python",
   "name": "python3"
  },
  "language_info": {
   "codemirror_mode": {
    "name": "ipython",
    "version": 3
   },
   "file_extension": ".py",
   "mimetype": "text/x-python",
   "name": "python",
   "nbconvert_exporter": "python",
   "pygments_lexer": "ipython3",
   "version": "3.10.13"
  },
  "papermill": {
   "default_parameters": {},
   "duration": 7.304362,
   "end_time": "2024-03-09T12:52:59.412577",
   "environment_variables": {},
   "exception": null,
   "input_path": "__notebook__.ipynb",
   "output_path": "__notebook__.ipynb",
   "parameters": {},
   "start_time": "2024-03-09T12:52:52.108215",
   "version": "2.5.0"
  }
 },
 "nbformat": 4,
 "nbformat_minor": 5
}
